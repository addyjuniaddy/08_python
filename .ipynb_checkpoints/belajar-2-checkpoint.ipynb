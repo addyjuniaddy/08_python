{
 "cells": [
  {
   "cell_type": "markdown",
   "id": "9449a2f9",
   "metadata": {},
   "source": [
    "# Belajar Menggunakan Python"
   ]
  },
  {
   "cell_type": "markdown",
   "id": "2fa10ef8",
   "metadata": {},
   "source": [
    "Python adalah sebuah bahasa pemrograman yang *paling populer* saat ini"
   ]
  },
  {
   "cell_type": "markdown",
   "id": "782c5150",
   "metadata": {},
   "source": [
    "# Heading 1"
   ]
  },
  {
   "cell_type": "markdown",
   "id": "6c3fb65b",
   "metadata": {},
   "source": [
    "## Heading 2"
   ]
  },
  {
   "cell_type": "markdown",
   "id": "c50b92d1",
   "metadata": {},
   "source": [
    "#### Heading 4"
   ]
  },
  {
   "cell_type": "markdown",
   "id": "8961b007",
   "metadata": {},
   "source": [
    "###### Heading 6"
   ]
  },
  {
   "cell_type": "markdown",
   "id": "3587ba1e",
   "metadata": {},
   "source": [
    "####### Heading 7 tidak ada"
   ]
  },
  {
   "cell_type": "markdown",
   "id": "840ea94c",
   "metadata": {},
   "source": [
    "Kita membuat teks menjadi **TEBAL** dengan bintang dua di pembuka dan penutup"
   ]
  },
  {
   "cell_type": "markdown",
   "id": "65027b11",
   "metadata": {},
   "source": [
    "Membuat quote dengan di awali tanda \">\"\n",
    "> \"Kuda adalah binatang berkaki empat\""
   ]
  },
  {
   "cell_type": "markdown",
   "id": "da4f6a3b",
   "metadata": {},
   "source": [
    "Membuat bullet dengan tanda * (1 kali)\n",
    "\n",
    "Jenis makanan yang mengandung Karbohidrat adalah : \n",
    "* Nasi\n",
    "* Roti\n",
    "* Tepung\n",
    "    * Tepung Terigu (otomatis bullet nya berbeda)\n",
    "    * Tepung beras\n",
    "    * Tepung Jagung"
   ]
  },
  {
   "cell_type": "markdown",
   "id": "904667e4",
   "metadata": {},
   "source": [
    "\\*Tanda ini berhasil dipakai tanpa membuat kalimatnya menjadi miring*"
   ]
  },
  {
   "cell_type": "markdown",
   "id": "16713229",
   "metadata": {},
   "source": [
    "Juara lomba lari adalah : \n",
    "1. Joko (otomatis membuat numbering)\n",
    "2. Budi\n",
    "3. Tari"
   ]
  },
  {
   "cell_type": "markdown",
   "id": "b8fab885",
   "metadata": {},
   "source": [
    "*Tanda ini berhasil dipakai membuat kalimatnya menjadi miring*"
   ]
  },
  {
   "cell_type": "markdown",
   "id": "6d95e104",
   "metadata": {},
   "source": [
    "Menampilkan gambar dengan perintah \\![nama_gambar_terserah]\\(reflect-quran-poster.png)\n",
    "![nama_gambar_terserah](reflect-quran-poster.png)"
   ]
  },
  {
   "cell_type": "markdown",
   "id": "ede04bcc",
   "metadata": {},
   "source": [
    "while dan ternyata looping tidak berhenti, bila terjadi bisa di interupt dengan klik Kernel"
   ]
  },
  {
   "cell_type": "code",
   "execution_count": null,
   "id": "a9033e09",
   "metadata": {},
   "outputs": [],
   "source": [
    "while # looping non stop"
   ]
  }
 ],
 "metadata": {
  "kernelspec": {
   "display_name": "Python 3 (ipykernel)",
   "language": "python",
   "name": "python3"
  },
  "language_info": {
   "codemirror_mode": {
    "name": "ipython",
    "version": 3
   },
   "file_extension": ".py",
   "mimetype": "text/x-python",
   "name": "python",
   "nbconvert_exporter": "python",
   "pygments_lexer": "ipython3",
   "version": "3.11.5"
  }
 },
 "nbformat": 4,
 "nbformat_minor": 5
}
